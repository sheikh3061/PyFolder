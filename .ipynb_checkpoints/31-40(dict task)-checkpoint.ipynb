{
 "cells": [
  {
   "cell_type": "markdown",
   "metadata": {},
   "source": [
    "# SOME TASK RELATED TO DICTIONARIES\n"
   ]
  },
  {
   "cell_type": "code",
   "execution_count": 1,
   "metadata": {},
   "outputs": [
    {
     "name": "stdout",
     "output_type": "stream",
     "text": [
      "{'n1': [2, 3, 1], 'n2': [5, 1, 2], 'n3': [3, 2, 4]}\n"
     ]
    }
   ],
   "source": [
    "some_numbers = {'n1': [2, 3, 1], 'n2': [5, 1, 2], 'n3': [3, 2, 4]}\n",
    "print(some_numbers)\n"
   ]
  },
  {
   "cell_type": "code",
   "execution_count": 3,
   "metadata": {},
   "outputs": [
    {
     "data": {
      "text/plain": [
       "{'n1': [1, 2, 3], 'n2': [1, 2, 5], 'n3': [2, 3, 4]}"
      ]
     },
     "execution_count": 3,
     "metadata": {},
     "output_type": "execute_result"
    }
   ],
   "source": [
    "sorted_num = {}\n",
    "for (k, v) in some_numbers.items():\n",
    "  sorted_num[k] = sorted(v)\n",
    "sorted_num"
   ]
  },
  {
   "cell_type": "code",
   "execution_count": 5,
   "metadata": {},
   "outputs": [
    {
     "data": {
      "text/plain": [
       "{'n1': [1, 2, 3], 'n2': [1, 2, 5], 'n3': [2, 3, 4]}"
      ]
     },
     "execution_count": 5,
     "metadata": {},
     "output_type": "execute_result"
    }
   ],
   "source": [
    "some_numbers={k: sorted(v) for k,v in some_numbers.items()}\n",
    "some_numbers"
   ]
  },
  {
   "cell_type": "code",
   "execution_count": 9,
   "metadata": {},
   "outputs": [
    {
     "name": "stdout",
     "output_type": "stream",
     "text": [
      "flint\n",
      "twine\n",
      "gemstone\n",
      "turbole\n"
     ]
    }
   ],
   "source": [
    "inventory = {\n",
    "    'gold' : ['flint', 'twine', 'gemstone' , 'hagger' , 'turbole'],\n",
    "    'pouch' : ['flint', 'twine', 'gemstone' , 'hagger' , 'turbole'],\n",
    "    'backpack' : ['xylophone','dagger', 'bedroll','bread loaf']\n",
    "    \n",
    "    \n",
    "}\n",
    "user_input = 'pouch'\n",
    "if inventory[user_input]:\n",
    "    for i in inventory[user_input]:\n",
    "        if i != 'hagger':\n",
    "            print(i)\n"
   ]
  },
  {
   "cell_type": "code",
   "execution_count": 10,
   "metadata": {},
   "outputs": [
    {
     "name": "stdout",
     "output_type": "stream",
     "text": [
      "shahzad\n",
      "AI\n",
      "B\n"
     ]
    }
   ],
   "source": [
    "person = {'name' : 'shahzad' , 'program' : 'AI' , 'section' : 'B'}\n",
    "for k in person.keys():\n",
    "    print(person[k])"
   ]
  },
  {
   "cell_type": "code",
   "execution_count": 14,
   "metadata": {},
   "outputs": [
    {
     "name": "stdout",
     "output_type": "stream",
     "text": [
      "['html', 'css', 'excel']\n"
     ]
    }
   ],
   "source": [
    "user_programming_languages = {\n",
    "    'osama' : ['C' , 'C#' , 'Python'] , \n",
    "    'amir saleem' : ['html' , 'css' , 'excel'] , \n",
    "    'shahzad' : ['Ruby' , 'Swift'] \n",
    "}\n",
    "name = 'amir saleem'\n",
    "if name in user_programming_languages.keys():\n",
    "    print(user_programming_languages[name])"
   ]
  },
  {
   "cell_type": "code",
   "execution_count": 21,
   "metadata": {},
   "outputs": [
    {
     "data": {
      "text/plain": [
       "'Not found'"
      ]
     },
     "execution_count": 21,
     "metadata": {},
     "output_type": "execute_result"
    }
   ],
   "source": [
    "someData = {'colors' : ['red' , 'blue' 'green'] , 'shapes' : ['circle' , 'triangle']}\n",
    "# x = someData['colors']\n",
    "# x\n",
    "x  = someData.get('shape' , 'Not found')\n",
    "x"
   ]
  },
  {
   "cell_type": "code",
   "execution_count": 24,
   "metadata": {},
   "outputs": [
    {
     "name": "stdout",
     "output_type": "stream",
     "text": [
      "{0: 10, 1: 20}\n",
      "{0: 10, 1: 20, 2: 10}\n"
     ]
    }
   ],
   "source": [
    "d = {0:10, 1:20}\n",
    "print(d)\n",
    "d.update({2:10})\n",
    "print(d)\n"
   ]
  },
  {
   "cell_type": "code",
   "execution_count": 28,
   "metadata": {},
   "outputs": [
    {
     "name": "stdout",
     "output_type": "stream",
     "text": [
      "Enter your name : osama\n",
      "Enter your new name: osama khan\n",
      "you have successfully updated your name\n",
      "[{'name': 'hamza', 'password': '123456'}, {'name': 'shahzad', 'password': '123456'}, {'name': 'osama khan', 'password': '123456'}]\n"
     ]
    }
   ],
   "source": [
    "users =[ {\n",
    "    \"name\" : \"hamza\",\n",
    "    \"password\" : '123456'\n",
    "},\n",
    "    {\n",
    "    \"name\" : \"shahzad\",\n",
    "    \"password\" : '123456'\n",
    "},\n",
    "    {\n",
    "    \"name\" : \"osama\",\n",
    "    \"password\" : '123456'\n",
    "}\n",
    "]\n",
    "name = input('Enter your name : ')\n",
    "for user in users:\n",
    "    if user.get('name') ==  name:\n",
    "        user.update({'name' : input('Enter your new name: ')})\n",
    "        print('you have successfully updated your name')\n",
    "print(users)"
   ]
  },
  {
   "cell_type": "code",
   "execution_count": null,
   "metadata": {},
   "outputs": [],
   "source": []
  },
  {
   "cell_type": "code",
   "execution_count": null,
   "metadata": {},
   "outputs": [],
   "source": [
    "# d = {'x': 10, 'y': 20, 'z': 30} \n",
    "# for dict_key, dict_value in d.items():\n",
    "#     print(dict_key,'->',dict_value)"
   ]
  },
  {
   "cell_type": "code",
   "execution_count": null,
   "metadata": {},
   "outputs": [],
   "source": [
    "# Print a dictionary where the keys are numbers between 1 and 15 and the values are square of keys\n"
   ]
  },
  {
   "cell_type": "code",
   "execution_count": null,
   "metadata": {},
   "outputs": [],
   "source": [
    "d1 = {'a': 100, 'b': 200}\n",
    "d2 = {'x': 300, 'y': 200}\n",
    "d1.update(d2)\n",
    "print(d1)"
   ]
  },
  {
   "cell_type": "code",
   "execution_count": null,
   "metadata": {},
   "outputs": [],
   "source": []
  },
  {
   "cell_type": "code",
   "execution_count": 41,
   "metadata": {},
   "outputs": [
    {
     "name": "stdout",
     "output_type": "stream",
     "text": [
      "{'red': '#FF0000', 'green': '#008000', 'blue': '#0000FF', 'orange': '232323'}\n"
     ]
    }
   ],
   "source": [
    "# Python Exercise: Map two lists into a dictionary\n",
    "keys = ['red', 'green', 'blue', \"orange\"]\n",
    "values = ['#FF0000','#008000', '#0000FF',\"232323\",\"erert\"]\n",
    "color_dictionary = dict(zip(keys, values))\n",
    "print(color_dictionary)"
   ]
  },
  {
   "cell_type": "code",
   "execution_count": 42,
   "metadata": {},
   "outputs": [
    {
     "name": "stdout",
     "output_type": "stream",
     "text": [
      "#FF0000\n",
      "#008000\n",
      "#0000FF\n",
      "232323\n"
     ]
    }
   ],
   "source": [
    "for keys in color_dictionary.values():\n",
    "    print(keys)"
   ]
  },
  {
   "cell_type": "code",
   "execution_count": null,
   "metadata": {},
   "outputs": [],
   "source": []
  },
  {
   "cell_type": "code",
   "execution_count": null,
   "metadata": {},
   "outputs": [],
   "source": [
    "# Check a dictionary is empty or not\n",
    "my_dict = { }\n",
    "\n",
    "if my_dict:\n",
    "    print(\"Dictionary is not empty\")\n",
    "else :\n",
    "    print('Dictionary is empty')\n",
    "\n",
    "x = False\n",
    "if x:\n",
    "    print('list has some data')"
   ]
  },
  {
   "cell_type": "code",
   "execution_count": null,
   "metadata": {},
   "outputs": [],
   "source": [
    "x = [1,28,9,5,6,96,29,6,3,69,6,2,25,99,120,100,5,128]\n",
    "y = sorted(x )[:4]\n",
    "y"
   ]
  },
  {
   "cell_type": "code",
   "execution_count": 24,
   "metadata": {},
   "outputs": [
    {
     "name": "stdout",
     "output_type": "stream",
     "text": [
      "b\n",
      "\n"
     ]
    }
   ],
   "source": [
    "s = 'bubble'\n",
    "d= s[:1]\n",
    "print(d)\n",
    "if len(s) > 1:\n",
    "    print(x.replace('b','*'))\n"
   ]
  },
  {
   "cell_type": "code",
   "execution_count": 30,
   "metadata": {},
   "outputs": [
    {
     "name": "stdout",
     "output_type": "stream",
     "text": [
      "b\n"
     ]
    },
    {
     "data": {
      "text/plain": [
       "'bu**le'"
      ]
     },
     "execution_count": 30,
     "metadata": {},
     "output_type": "execute_result"
    }
   ],
   "source": [
    "s = 'bubble'\n",
    "d = s[:1]\n",
    "print(d)\n",
    "if len(s)>1:\n",
    "    x = s[1:]\n",
    "    z = d+x.replace('b','*')\n",
    "z"
   ]
  },
  {
   "cell_type": "code",
   "execution_count": 3,
   "metadata": {},
   "outputs": [
    {
     "data": {
      "text/plain": [
       "'dig donner'"
      ]
     },
     "execution_count": 3,
     "metadata": {},
     "output_type": "execute_result"
    }
   ],
   "source": [
    "\n",
    "z=a.replace(a[:2],b[:2])+' ' +b.replace(b[:2],a[:2])\n",
    "z"
   ]
  },
  {
   "cell_type": "code",
   "execution_count": 12,
   "metadata": {},
   "outputs": [
    {
     "data": {
      "text/plain": [
       "'donner dig'"
      ]
     },
     "execution_count": 12,
     "metadata": {},
     "output_type": "execute_result"
    }
   ],
   "source": [
    "a = 'dog' \n",
    "b = 'dinner'\n",
    "c = a[:2]+b[2:]\n",
    "d = b[:2]+a[2:]\n",
    "e = c +' '+ d\n",
    "e\n",
    "\n"
   ]
  },
  {
   "cell_type": "code",
   "execution_count": 14,
   "metadata": {},
   "outputs": [
    {
     "data": {
      "text/plain": [
       "[1, 2, 3]"
      ]
     },
     "execution_count": 14,
     "metadata": {},
     "output_type": "execute_result"
    }
   ],
   "source": [
    "\n",
    "H = [1, 2, 2, 3] \n",
    "#set function reduces the repeating list members to one.\n",
    "def remove_adjacent(H):\n",
    "    return list(set(H))\n",
    "\n",
    "remove_adjacent(H) "
   ]
  },
  {
   "cell_type": "code",
   "execution_count": 20,
   "metadata": {},
   "outputs": [
    {
     "name": "stdout",
     "output_type": "stream",
     "text": [
      "g\n"
     ]
    },
    {
     "data": {
      "text/plain": [
       "'goo*le'"
      ]
     },
     "execution_count": 20,
     "metadata": {},
     "output_type": "execute_result"
    }
   ],
   "source": [
    "s = 'google'\n",
    "d = s[:1]\n",
    "print(d)\n",
    "if len(s)>1:\n",
    "    x = s[1:]\n",
    "    z = d+x.replace(d,'*')\n",
    "z"
   ]
  },
  {
   "cell_type": "code",
   "execution_count": 29,
   "metadata": {},
   "outputs": [],
   "source": [
    "def verbing(s):\n",
    "  # +++your code here+++\n",
    "    if len(s) >= 3:\n",
    "        if s[-3:] == 'ing':\n",
    "            s = s+ 'ly'\n",
    "        else:\n",
    "            s =s + 'ing'   \n",
    "    return s"
   ]
  },
  {
   "cell_type": "code",
   "execution_count": 32,
   "metadata": {},
   "outputs": [
    {
     "data": {
      "text/plain": [
       "'do'"
      ]
     },
     "execution_count": 32,
     "metadata": {},
     "output_type": "execute_result"
    }
   ],
   "source": [
    "verbing('do')"
   ]
  },
  {
   "cell_type": "code",
   "execution_count": 64,
   "metadata": {},
   "outputs": [],
   "source": [
    "def not_bad(s):\n",
    "  # +++your code here+++\n",
    "    \n",
    "    b = s.find(\"not\")\n",
    "    c = s.find('bad')\n",
    "    e = 'good'\n",
    "    if b < c:\n",
    "        d = s[b:c+3]\n",
    "        s = s.replace(d,e)\n",
    "    return s"
   ]
  },
  {
   "cell_type": "code",
   "execution_count": 66,
   "metadata": {},
   "outputs": [
    {
     "data": {
      "text/plain": [
       "\"It's bad yet not\""
      ]
     },
     "execution_count": 66,
     "metadata": {},
     "output_type": "execute_result"
    }
   ],
   "source": [
    "not_bad(\"It's bad yet not\")"
   ]
  },
  {
   "cell_type": "code",
   "execution_count": 117,
   "metadata": {},
   "outputs": [],
   "source": [
    "def front_back(a, b):\n",
    "  # +++your code here+++\n",
    "    c = len(a)\n",
    "    d = len(b)\n",
    "    if c%2==0 and d%2==1:\n",
    "        e = a[:int(c/2)]+b[:int(d/2)+1]+a[int(c/2):]+b[int(d/2)+1:]\n",
    "    elif c%2==0 and d%2==0:\n",
    "        e = a[:int(c/2)]+b[:int(d/2)]+a[int(c/2):]+b[int(d/2):]\n",
    "    elif c%2==1 and d%2==0:\n",
    "        e = a[:int(c/2)+1]+b[:int(d/2)]+a[int(c/2)+1:]+b[int(d/2):]\n",
    "    elif c%2==1 and d%2==1:\n",
    "        e = a[:int(c/2)+1]+b[:int(d/2)+1]+a[int(c/2)+1:]+b[int(d/2)+1:]\n",
    "    return e"
   ]
  },
  {
   "cell_type": "code",
   "execution_count": 119,
   "metadata": {},
   "outputs": [
    {
     "data": {
      "text/plain": [
       "'abcxydez'"
      ]
     },
     "execution_count": 119,
     "metadata": {},
     "output_type": "execute_result"
    }
   ],
   "source": [
    "front_back('abcde', 'xyz')"
   ]
  },
  {
   "cell_type": "code",
   "execution_count": 121,
   "metadata": {},
   "outputs": [
    {
     "name": "stdout",
     "output_type": "stream",
     "text": [
      "1\n"
     ]
    }
   ],
   "source": [
    "word = ['aaa', 'be', 'abc', 'hello']\n",
    "n = 0\n",
    "m = 0\n",
    "for i in word:\n",
    "    a = word[n]\n",
    "    if len(word[n])>= 2 and a[:1] == a[-1:]:\n",
    "        n = n + 1\n",
    "        m = m + 1\n",
    "    else:\n",
    "        n = n + 1\n",
    "print(m)"
   ]
  },
  {
   "cell_type": "code",
   "execution_count": 123,
   "metadata": {},
   "outputs": [],
   "source": [
    "def match_ends(words):\n",
    "  # +++your code here+++\n",
    "    n = 0\n",
    "    m = 0\n",
    "    for i in word:\n",
    "        a = word[n]\n",
    "        if len(word[n])>= 2 and a[:1] == a[-1:]:\n",
    "            n = n + 1\n",
    "            m = m + 1\n",
    "        else:\n",
    "            n = n + 1\n",
    "    return s"
   ]
  },
  {
   "cell_type": "code",
   "execution_count": 33,
   "metadata": {},
   "outputs": [],
   "source": [
    "x = ['bbb', 'ccc', 'axx','xzz', 'xaa']\n",
    "a = 0\n",
    "c = 0\n",
    "y = []\n",
    "for i in x:\n",
    "    c = x[a]\n",
    "    #print(x[a])\n",
    "    if c[:1] == 'x':\n",
    "        print(a)\n",
    "\n",
    "        "
   ]
  },
  {
   "cell_type": "code",
   "execution_count": 123,
   "metadata": {},
   "outputs": [],
   "source": [
    "x = ['bbb', 'ccc', 'axx','xzz', 'xaa']"
   ]
  },
  {
   "cell_type": "code",
   "execution_count": 173,
   "metadata": {},
   "outputs": [
    {
     "data": {
      "text/plain": [
       "['xaa', 'xzz', 'axx', 'bbb', 'ccc']"
      ]
     },
     "execution_count": 173,
     "metadata": {},
     "output_type": "execute_result"
    }
   ],
   "source": [
    "x = ['bbb', 'ccc', 'axx','xzz', 'xaa']\n",
    "a = 0\n",
    "c = 0\n",
    "y = []\n",
    "z = []\n",
    "for i in x:\n",
    "    c = x[a]\n",
    "    if c[:1] == 'x':\n",
    "        y.append(x[a])\n",
    "    else:\n",
    "        z.append(x[a])\n",
    "    a = a + 1\n",
    "d = sorted(y) + sorted(z)\n"
   ]
  },
  {
   "cell_type": "code",
   "execution_count": 175,
   "metadata": {},
   "outputs": [],
   "source": [
    "def front_x(words):\n",
    "  # +++your code here+++\n",
    "    a = 0\n",
    "    c = 0\n",
    "    y = []\n",
    "    z = []\n",
    "    for i in x:\n",
    "        c = x[a]\n",
    "        if c[:1] == 'x':\n",
    "            y.append(x[a])\n",
    "        else:\n",
    "            z.append(x[a])\n",
    "        a = a + 1\n",
    "    d = sorted(y) + sorted(z)\n",
    "    return d\n"
   ]
  },
  {
   "cell_type": "code",
   "execution_count": 176,
   "metadata": {},
   "outputs": [
    {
     "data": {
      "text/plain": [
       "['xaa', 'xzz', 'axx', 'bbb', 'ccc']"
      ]
     },
     "execution_count": 176,
     "metadata": {},
     "output_type": "execute_result"
    }
   ],
   "source": [
    "front_x(['bbb', 'ccc', 'axx', 'xzz', 'xaa'])"
   ]
  },
  {
   "cell_type": "code",
   "execution_count": 21,
   "metadata": {},
   "outputs": [],
   "source": []
  },
  {
   "cell_type": "code",
   "execution_count": 13,
   "metadata": {},
   "outputs": [
    {
     "name": "stdout",
     "output_type": "stream",
     "text": [
      "[(1, 3), (3, 2), (2, 1)]\n"
     ]
    }
   ],
   "source": [
    "sorted(tup, key = lambda x: x[1])\n",
    "print(tup)"
   ]
  },
  {
   "cell_type": "code",
   "execution_count": 26,
   "metadata": {},
   "outputs": [
    {
     "name": "stdout",
     "output_type": "stream",
     "text": [
      "[(2, 1), (3, 2), (1, 3)]\n"
     ]
    }
   ],
   "source": [
    "tup = ([(1, 3), (3, 2), (2, 1)])\n",
    "lst = len(tup)\n",
    "for i in range(0,lst):\n",
    "    for j in range(0,lst-i-1):\n",
    "        if(tup[j][1] > tup[j+1][1]):\n",
    "            temp = tup[j]\n",
    "            tup[j] = tup[j+1]\n",
    "            tup[j+1] = temp\n",
    "print(tup)"
   ]
  },
  {
   "cell_type": "code",
   "execution_count": null,
   "metadata": {},
   "outputs": [],
   "source": []
  }
 ],
 "metadata": {
  "kernelspec": {
   "display_name": "Python 3",
   "language": "python",
   "name": "python3"
  },
  "language_info": {
   "codemirror_mode": {
    "name": "ipython",
    "version": 3
   },
   "file_extension": ".py",
   "mimetype": "text/x-python",
   "name": "python",
   "nbconvert_exporter": "python",
   "pygments_lexer": "ipython3",
   "version": "3.6.5"
  }
 },
 "nbformat": 4,
 "nbformat_minor": 2
}
