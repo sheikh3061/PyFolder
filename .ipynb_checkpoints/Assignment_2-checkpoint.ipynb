{
 "cells": [
  {
   "cell_type": "markdown",
   "metadata": {},
   "source": [
    "<h3>Q no 1:  Write a python program to find number of occurrences of given number in a list with out using built-in methods</h3>\n",
    "<h4>**1 generate a list of some random num which is repeated again and again</h4>\n",
    "<h4>**2 take user input any number</h4>\n",
    "<h4>**3 find the number of occurrences of that num in your list</h4>\n",
    "<h4>**4 print some message to user with that result</h4>"
   ]
  },
  {
   "cell_type": "code",
   "execution_count": 28,
   "metadata": {},
   "outputs": [
    {
     "name": "stdout",
     "output_type": "stream",
     "text": [
      "Enter Searching Number...4\n",
      "OCCURENCE... 3\n"
     ]
    }
   ],
   "source": [
    "sList = [2,3,4,5,6,7,4,3,32,4,6,2]\n",
    "numInput = int(input(\"Enter Searching Number...\"))\n",
    "count = 0\n",
    "for x in sList:\n",
    "    if x == numInput:\n",
    "        count += 1\n",
    "print(\"OCCURENCE...\",count)"
   ]
  },
  {
   "cell_type": "code",
   "execution_count": 26,
   "metadata": {},
   "outputs": [
    {
     "name": "stdout",
     "output_type": "stream",
     "text": [
      "Enter Your num:2\n",
      "Num Matched\n"
     ]
    }
   ],
   "source": [
    "slist = 2 \n",
    "num = int(input(\"Enter Your num:\"))\n",
    "count = 0\n",
    "if num == slist:\n",
    "    print(\"Num Matched\")\n",
    "if num != slist:\n",
    "    print(\"Not Matched\")"
   ]
  },
  {
   "cell_type": "markdown",
   "metadata": {},
   "source": [
    "<h3>Q no 2:   [\"www.zframez.com\", \"www.wikipedia.org\", \"www.asp.net\", \"www.abcd.in\"]\n",
    "<br/><br/><br/><br/><br/>\n",
    "Write a python program to print website suffixes (com , org , net ,in) from this list\n",
    "</h3>"
   ]
  },
  {
   "cell_type": "code",
   "execution_count": 36,
   "metadata": {},
   "outputs": [
    {
     "name": "stdout",
     "output_type": "stream",
     "text": [
      "['com', 'org', 'net', 'in']\n"
     ]
    }
   ],
   "source": [
    "str = [\"www.zframez.com\", \"www.wikipedia.org\", \"www.asp.net\", \"www.abcd.in\"] \n",
    "webSfx =[]\n",
    "for x in str:\n",
    "    webSfx.append(x.split(\".\")[-1])\n",
    "print(webSfx)"
   ]
  },
  {
   "cell_type": "markdown",
   "metadata": {},
   "source": [
    "<h3> Q no 3 : Write a program which can compute the factorial of a given numbers.</h3>\n",
    "<br/>\n",
    "<br/>\n",
    "<h4>**1 first take user input any number</h4>\n",
    "<h4>**2 calculate factorial of that input and then print the result to user</h4>"
   ]
  },
  {
   "cell_type": "code",
   "execution_count": 49,
   "metadata": {},
   "outputs": [
    {
     "name": "stdout",
     "output_type": "stream",
     "text": [
      "Enter Your Number:12\n",
      "1\n",
      "2\n",
      "6\n",
      "24\n",
      "120\n",
      "720\n",
      "5040\n",
      "40320\n",
      "362880\n",
      "3628800\n",
      "39916800\n",
      "479001600\n"
     ]
    }
   ],
   "source": [
    "fact = 1\n",
    "num = int(input(\"Enter Your Number:\"))\n",
    "for x in range(1,num+1):\n",
    "    fact = x * fact\n",
    "    print(fact)"
   ]
  },
  {
   "cell_type": "markdown",
   "metadata": {},
   "source": [
    "<h3>Q 4 (a) :  If you could invite anyone, living or deceased, to dinner, who\n",
    "would you invite? Make a list that includes at least three people you’d like to\n",
    "invite to dinner. Then use your list to print a message to each person, inviting\n",
    "them to dinner.</h3>"
   ]
  },
  {
   "cell_type": "code",
   "execution_count": 66,
   "metadata": {},
   "outputs": [
    {
     "name": "stdout",
     "output_type": "stream",
     "text": [
      "You are Cordially Invited Mr.Asad at location SSUET 02:00 pm\n",
      "You are Cordially Invited Mr.Hamza at location SSUET 02:00 pm\n",
      "You are Cordially Invited Mr.Ali at location SSUET 02:00 pm\n",
      "You are Cordially Invited Mr.Haris at location SSUET 02:00 pm\n"
     ]
    }
   ],
   "source": [
    "invitation = [\"Asad\",\"Hamza\",\"Ali\",\"Haris\"]\n",
    "for x in invitation:\n",
    "    print(\"You are Cordially Invited Mr.\" + x +\" at location SSUET 02:00 pm\")"
   ]
  },
  {
   "cell_type": "markdown",
   "metadata": {},
   "source": [
    "<h3>Q 4 (b) : You just heard that one of your guests can’t make the\n",
    "dinner, so you need to send out a new set of invitations. You’ll have to think of\n",
    "someone else to invite.<br/></br><br/>\n",
    "•\t Start with your program from Q 4 (a). Add a print statement at the\n",
    "end of your program stating the name of the guest who can’t make it.<br/></br><br/>\n",
    "•\t Modify your list, replacing the name of the guest who can’t make it with\n",
    "the name of the new person you are inviting.<br/></br><br/>\n",
    "•\t Print a second set of invitation messages, one for each person who is still\n",
    "in your list.<br/></br><br/></h3>"
   ]
  },
  {
   "cell_type": "code",
   "execution_count": 72,
   "metadata": {},
   "outputs": [
    {
     "name": "stdout",
     "output_type": "stream",
     "text": [
      "You are Cordially Invited Mr.Asad at location SSUET 02:00 pm\n",
      "You are Cordially Invited Mr.Ijaz at location SSUET 02:00 pm\n",
      "You are Cordially Invited Mr.Ali at location SSUET 02:00 pm\n",
      "You are Cordially Invited Mr.Haris at location SSUET 02:00 pm\n"
     ]
    }
   ],
   "source": [
    "invitation = [\"Asad\",\"Hamza\",\"Ali\",\"Haris\"]\n",
    "invitation[1] = \"Ijaz\"\n",
    "\n",
    "for x in invitation:\n",
    "    print(\"You are Cordially Invited Mr.\" + x +\" at location SSUET 02:00 pm\")"
   ]
  },
  {
   "cell_type": "markdown",
   "metadata": {},
   "source": [
    "<h3>Q 4 (c) : You just found a bigger dinner table, so now more space is\n",
    "available. Think of three more guests to invite to dinner.<br/></br><br/>\n",
    "•\t Start with your program from Q 4 (a) and (b) Add a print\n",
    "statement to the end of your program informing people that you found a\n",
    "bigger dinner table.<br/></br><br/>\n",
    "•\t Use insert() to add one new guest to the beginning of your list.<br/></br><br/>\n",
    "•\t Use insert() to add one new guest to the middle of your list.<br/></br><br/>\n",
    "•\t Use append() to add one new guest to the end of your list.<br/></br><br/>\n",
    "•\t Print a new set of invitation messages, one for each person in your list.<br/></br><br/></h3>"
   ]
  },
  {
   "cell_type": "code",
   "execution_count": 16,
   "metadata": {},
   "outputs": [
    {
     "name": "stdout",
     "output_type": "stream",
     "text": [
      "['Hamza', 'Asad', 'Zaid', 'Ijaz', 'Ali', 'Haris', 'Nadeem']\n",
      "You are Cordially Invited Mr.Hamza at location SSUET 02:00 pm\n",
      "You are Cordially Invited Mr.Asad at location SSUET 02:00 pm\n",
      "You are Cordially Invited Mr.Zaid at location SSUET 02:00 pm\n",
      "You are Cordially Invited Mr.Ijaz at location SSUET 02:00 pm\n",
      "You are Cordially Invited Mr.Ali at location SSUET 02:00 pm\n",
      "You are Cordially Invited Mr.Haris at location SSUET 02:00 pm\n",
      "You are Cordially Invited Mr.Nadeem at location SSUET 02:00 pm\n"
     ]
    }
   ],
   "source": [
    "invitation = [\"Asad\",\"Ijaz\",\"Ali\",\"Haris\"]\n",
    "invitation.insert(0,\"Hamza\")\n",
    "invitation.insert(2,\"Zaid\")\n",
    "\n",
    "invitation.append(\"Nadeem\")\n",
    "print(invitation)\n",
    "\n",
    "for x in invitation:\n",
    "    print(\"You are Cordially Invited Mr.\" + x +\" at location SSUET 02:00 pm\")\n"
   ]
  },
  {
   "cell_type": "code",
   "execution_count": null,
   "metadata": {},
   "outputs": [],
   "source": []
  },
  {
   "cell_type": "markdown",
   "metadata": {},
   "source": [
    "<h5> Q 5 : Here you have some data in variable below, your task is to make a list of specific word Surah then print the list and length of list</h5>\n"
   ]
  },
  {
   "cell_type": "code",
   "execution_count": 32,
   "metadata": {},
   "outputs": [
    {
     "name": "stdout",
     "output_type": "stream",
     "text": [
      "['Sura', 'Sura', 'Sura']\n",
      "3\n"
     ]
    }
   ],
   "source": [
    "data = \"Sura I Who believe in the Unseen, Sura Are steadfast in prayer, And spend Sura out of what We Have provided for them;\"\n",
    "new_data = data.split()\n",
    "#print(new_data)\n",
    "newlist = new_data[:]\n",
    "for x in newlist:\n",
    "    if x == \"Sura\":\n",
    "        continue\n",
    "    else:\n",
    "        new_data.remove(x)\n",
    "        continue\n",
    "print(new_data)\n",
    "print(len(new_data))"
   ]
  },
  {
   "cell_type": "code",
   "execution_count": null,
   "metadata": {},
   "outputs": [],
   "source": []
  }
 ],
 "metadata": {
  "kernelspec": {
   "display_name": "Python 3",
   "language": "python",
   "name": "python3"
  },
  "language_info": {
   "codemirror_mode": {
    "name": "ipython",
    "version": 3
   },
   "file_extension": ".py",
   "mimetype": "text/x-python",
   "name": "python",
   "nbconvert_exporter": "python",
   "pygments_lexer": "ipython3",
   "version": "3.6.5"
  }
 },
 "nbformat": 4,
 "nbformat_minor": 2
}
